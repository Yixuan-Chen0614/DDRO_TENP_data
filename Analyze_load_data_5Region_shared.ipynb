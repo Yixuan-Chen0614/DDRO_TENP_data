{
 "cells": [
  {
   "cell_type": "markdown",
   "metadata": {},
   "source": [
    "# Analyze historical data of five regions in AUS NEM\n",
    "Methods in [1] are adopted, whose source code can be found in [2]. Besides, data in 'df_n','df_g' are also downloaded from [2].<br/>\n",
    "This version was updated in Dec., 2020.\n",
    "\n",
    "#### This code aims to ####\n",
    "(1) Extract load and wind/solar dispatch signals in the five trading region   in Australia National Electricity Market (AUS NEM) during 2015-2020 from  [3] ;<br />\n",
    "(2) Examine $L^1$ and $L^2$ norms of load vector and justify the multi-layer ellipsoid structure of load points distribution.<br/>\n",
    "\n",
    "\n",
    "\n",
    "##### NEM model #####\n",
    "In total, the NEM generator dataset contains technical and economic information relating to 203 generating units （conventional generators and renewable energy units, each has a dispatchable unit ID）, while the network dataset consists of 912 nodes, and 1406 AC edges with line voltages in the range of 110 kV to 500 kV.\n",
    "\n",
    "At the same time, there are ***5*** trading regions (NSW,QLD,SA,TAS,VIC) in AUS NEM, which are the focuses in this code.\n",
    "    "
   ]
  },
  {
   "cell_type": "markdown",
   "metadata": {},
   "source": [
    "## Import packages"
   ]
  },
  {
   "cell_type": "code",
   "execution_count": 1,
   "metadata": {},
   "outputs": [],
   "source": [
    "import matplotlib.pyplot as plt\n",
    "from matplotlib.path import Path\n",
    "import matplotlib.patches as patches\n"
   ]
  },
  {
   "cell_type": "code",
   "execution_count": 4,
   "metadata": {},
   "outputs": [],
   "source": [
    "import os\n",
    "import pandas as pd\n",
    "import numpy as np\n",
    "from zipfile import ZipFile\n",
    "from IPython.core.interactiveshell import InteractiveShell \n",
    "InteractiveShell.ast_node_interactivity = 'all'\n",
    "\n",
    "from sklearn import mixture\n",
    "from sklearn.cluster import MiniBatchKMeans\n",
    "\n",
    "import scipy.io as sio\n",
    "from pyomo.environ import *\n",
    "import matplotlib.pyplot as plt\n",
    "\n",
    "from random import random\n",
    "from scipy.stats import multivariate_normal\n",
    "from scipy.stats import matrix_normal\n",
    "\n",
    "import matplotlib.pyplot as plt\n",
    "from matplotlib.patches import Ellipse, Circle"
   ]
  },
  {
   "cell_type": "markdown",
   "metadata": {},
   "source": [
    "##  Paths to directories"
   ]
  },
  {
   "cell_type": "code",
   "execution_count": 5,
   "metadata": {},
   "outputs": [],
   "source": [
    "# Core data directory (common files)\n",
    "data_dir = os.path.abspath(os.path.join(os.path.curdir, os.path.pardir, os.path.pardir, 'data'))\n",
    "\n",
    "# MMSDM data directory\n",
    "MMSDMdata_dir = os.path.join(data_dir,'AUS2016_2020')\n",
    "\n",
    "# Network directory\n",
    "network_dir = os.path.abspath(os.path.join(os.path.curdir, os.path.pardir, '1_network'))\n",
    "\n",
    "# Generators directory\n",
    "gens_dir = os.path.abspath(os.path.join(os.path.curdir, os.path.pardir, '2_generators'))\n",
    "\n",
    "# Output directory\n",
    "output_dir = os.path.abspath(os.path.join(os.path.curdir, 'output'))\n",
    "output_for_mat_dir=os.path.abspath(os.path.join(os.path.curdir, 'output_for_mat'))\n",
    "\n",
    "# basic DataFrame for network (index=NODE_ID)\n",
    "df_n = pd.read_csv(os.path.join(network_dir, 'output', 'network_nodes.csv'), index_col='NODE_ID', dtype={'NEAREST_NODE':np.int32})\n",
    "\n",
    "# basic DataFrame for generator (index=DUID)\n",
    "df_g = pd.read_csv(os.path.join(gens_dir, 'output', 'generators.csv'), dtype={'NODE': int}, index_col='DUID')"
   ]
  },
  {
   "cell_type": "code",
   "execution_count": 6,
   "metadata": {},
   "outputs": [],
   "source": [
    "def Standardization(df_population):\n",
    "    L=np.linalg.cholesky(df_population.cov().values)\n",
    "    invL=np.linalg.inv(L)\n",
    "    \n",
    "    Zsample=np.dot(invL,(df_population-df_population.mean()).values.T)\n",
    "    df_z=pd.DataFrame(Zsample).T\n",
    "\n",
    "    return df_z"
   ]
  },
  {
   "cell_type": "markdown",
   "metadata": {},
   "source": [
    "## Define two functions for population (true distribution) and samples (empirical distributions)"
   ]
  },
  {
   "cell_type": "code",
   "execution_count": 9,
   "metadata": {},
   "outputs": [],
   "source": [
    "def samllgroup_white(df_population):\n",
    "# Small-size samples of historical data for empirical distribution and K-means\n",
    "    SizeList=[0.2,0.4,0.6,0.8] # proportion of sample size to population\n",
    "    df_diffsample={}\n",
    "    for sz in SizeList:    \n",
    "        # (1) Get a small size group (to show the influences of data size)\n",
    "        sr=str(sz)  \n",
    "        df_smallgroup=df_population.sample(frac=sz, replace=False, random_state=1)\n",
    "        df_diffsample['Sample'+sr[2]]=df_smallgroup.values\n",
    "        \n",
    "        #(2)  Statistics for empirical distribution\n",
    "        df_diffsample['Em_mean'+sr[2]]=df_smallgroup.mean().values\n",
    "        df_diffsample['Em_cov'+sr[2]]=df_smallgroup.cov().values\n",
    "        \n",
    "        #(3)  Standardization in each group\n",
    "        \n",
    "        U, S, V = np.linalg.svd(df_smallgroup.cov().values)\n",
    "        Xrot = np.dot(df_smallgroup.values, U)\n",
    "        df_diffsample['Xwhite'+sr[2]]=Xrot/np.sqrt(S+1e-5)        \n",
    "    return df_diffsample"
   ]
  },
  {
   "cell_type": "code",
   "execution_count": 10,
   "metadata": {},
   "outputs": [],
   "source": [
    "def samllgroup_normalize(df_population):\n",
    "# Small-size samples of historical data for empirical distribution and K-means\n",
    "    SizeList=[0.2,0.4,0.6,0.8,1.0] # proportion of sample size to population\n",
    "    df_diffsample={}\n",
    "    \n",
    "    for sz in SizeList:    \n",
    "        # (1) Get a small size group (to show the influences of data size)\n",
    "        sr=str(sz)  \n",
    "        df_smallgroup=df_population.sample(frac=sz, replace=False, random_state=1)\n",
    "        df_diffsample['Sample'+sr[2]]=df_smallgroup.values\n",
    "        \n",
    "        #(2)  Statistics for empirical distribution\n",
    "        df_diffsample['Em_mean'+sr[2]]=df_smallgroup.mean().values\n",
    "        df_diffsample['Em_cov'+sr[2]]=df_smallgroup.cov().values\n",
    "        \n",
    "        #(3)  Standardization in each group\n",
    "        L=np.linalg.cholesky(df_Pv.cov().values)\n",
    "        invL=np.linalg.inv(L)\n",
    "        Zsample=np.dot(invL,(df_Pv-df_Pv.mean()).values.T)\n",
    "        df_diffsample['Zsample'+sr[2]]=Zsample        \n",
    "    return df_diffsample"
   ]
  },
  {
   "cell_type": "markdown",
   "metadata": {},
   "source": [
    "## Duration of the dataset"
   ]
  },
  {
   "cell_type": "code",
   "execution_count": 11,
   "metadata": {},
   "outputs": [],
   "source": [
    "month_list=['0101','0201','0301','0401','0501','0601','0701','0801','0901','1001','1101','1201']\n",
    "year_list=['2015','2016','2017','2018','2019','2020']\n",
    "Missing_list=['20150601','20160101','20170701','20170801','20170901','20200601','20200701','20201201']\n",
    "\n",
    "hiscom_year=['2015','2020']\n",
    "hiscom_month=['0101','0501','0901','1101']"
   ]
  },
  {
   "cell_type": "markdown",
   "metadata": {},
   "source": [
    "## Main function for wind power data"
   ]
  },
  {
   "cell_type": "code",
   "execution_count": null,
   "metadata": {
    "code_folding": []
   },
   "outputs": [],
   "source": [
    "# Unit dispatch data\n",
    "#for file in os.listdir(dispatch_dir)\n",
    "\n",
    "\n",
    "df_wind=pd.DataFrame(columns = ['TAS','NSA','CAN','MEL']) \n",
    "\n",
    "for year in year_list:\n",
    "    for month in month_list:\n",
    "        a=year+''+month\n",
    "        if a in Missing_list:\n",
    "            continue\n",
    "        print(a)\n",
    "        name_csv='PUBLIC_DVD_DISPATCH_UNIT_SCADA_201901010000.CSV'\n",
    "        name_csv=name_csv.replace('0101',month)\n",
    "        name_csv=name_csv.replace('2019',year)\n",
    "        \n",
    "        df_DISPATCH_UNIT_SCADA = pd.read_csv(os.path.join(MMSDMdata_dir, name_csv),\n",
    "                                     skiprows=1, skipfooter=1, engine='python')\n",
    "    \n",
    "        df_wind0=get_zonal_wind_power (df_DISPATCH_UNIT_SCADA)\n",
    "        df_wind=df_wind.append(df_wind0)\n",
    "        \n",
    "#GMM_TrueWind=GMM_forTrue_PDF(df_wind)\n",
    "#Sample_Wind=sample_Kmeans(df_wind)\n",
    "#sio.savemat(os.path.join(output_for_mat_dir,'GMM_TrueWind.mat'), {'GMM_TrueWind': GMM_TrueWind})\n",
    "#sio.savemat(os.path.join(output_for_mat_dir,'Sample_Wind.mat'), {'Sample_Wind': Sample_Wind})\n",
    "\n"
   ]
  },
  {
   "cell_type": "markdown",
   "metadata": {},
   "source": [
    "# Get load data\n",
    "Load data in each NEM region are given at 30min intervals. Likewise, demand data are aggregated, with mean values over 60min intervals computed for each region. <br />"
   ]
  },
  {
   "cell_type": "code",
   "execution_count": 13,
   "metadata": {},
   "outputs": [],
   "source": [
    "def get_zonal_load(df_TRADINGREGIONSUM_piv):\n",
    "    def node_demand(row, df_regd):\n",
    "        # row['NEM_REGION'] : define which trading region (the five) the node belongs to        \n",
    "            return (row['PROP_REG_D']+ abs(0.5*np.random.normal()))* df_regd.loc[:, row['NEM_REGION']]\n",
    "        \n",
    "    df_nodal_d=df_n.apply(node_demand, args=(df_TRADINGREGIONSUM_piv,), axis=1).T            \n",
    "    df_zonal_load=df_nodal_d.T.join(df_n[['NEM_ZONE']], how='left').groupby('NEM_ZONE').sum().T\n",
    "    return df_zonal_load\n"
   ]
  },
  {
   "cell_type": "markdown",
   "metadata": {},
   "source": [
    "## Read load data from the dataset"
   ]
  },
  {
   "cell_type": "code",
   "execution_count": 14,
   "metadata": {
    "code_folding": []
   },
   "outputs": [
    {
     "name": "stdout",
     "output_type": "stream",
     "text": [
      "20150101\n",
      "20150201\n",
      "20150301\n",
      "20150401\n",
      "20150501\n",
      "20150701\n",
      "20150801\n",
      "20150901\n",
      "20151001\n",
      "20151101\n",
      "20151201\n",
      "20160201\n",
      "20160301\n",
      "20160401\n",
      "20160501\n",
      "20160601\n",
      "20160701\n",
      "20160801\n",
      "20160901\n",
      "20161001\n",
      "20161101\n",
      "20161201\n",
      "20170101\n",
      "20170201\n",
      "20170301\n",
      "20170401\n",
      "20170501\n",
      "20170601\n",
      "20171001\n",
      "20171101\n",
      "20171201\n",
      "20180101\n",
      "20180201\n",
      "20180301\n",
      "20180401\n",
      "20180501\n",
      "20180601\n",
      "20180701\n",
      "20180801\n",
      "20180901\n",
      "20181001\n",
      "20181101\n",
      "20181201\n",
      "20190101\n",
      "20190201\n",
      "20190301\n",
      "20190401\n",
      "20190501\n",
      "20190601\n",
      "20190701\n",
      "20190801\n",
      "20190901\n",
      "20191001\n",
      "20191101\n",
      "20191201\n",
      "20200101\n",
      "20200201\n",
      "20200301\n",
      "20200401\n",
      "20200501\n",
      "20200801\n",
      "20200901\n",
      "20201001\n",
      "20201101\n"
     ]
    }
   ],
   "source": [
    "\n",
    "df_load_5Region=pd.DataFrame()\n",
    "\n",
    "for year in year_list:\n",
    "    for month in month_list:\n",
    "        a=year+''+month\n",
    "        if a in Missing_list:\n",
    "            continue\n",
    "        print(a)\n",
    "        name_csv='PUBLIC_DVD_TRADINGREGIONSUM_201901010000.CSV'\n",
    "        name_csv=name_csv.replace('0101',month)\n",
    "        name_csv=name_csv.replace('2019',year)\n",
    "        # Regional summary for each trading interval\n",
    "        df_TRADINGREGIONSUM = pd.read_csv(os.path.join(MMSDMdata_dir, name_csv),\n",
    "                                      skiprows=1, skipfooter=1, engine='python')\n",
    "        # Convert settlement date to datetime\n",
    "        df_TRADINGREGIONSUM['SETTLEMENTDATE'] = pd.to_datetime(df_TRADINGREGIONSUM['SETTLEMENTDATE'])\n",
    "        # Pivot dataframe. Index is timestamp, columns are NEM region IDs, values are total demand\n",
    "        df_TRADINGREGIONSUM_piv = df_TRADINGREGIONSUM.pivot(index='SETTLEMENTDATE', columns='REGIONID', values='TOTALDEMAND')\n",
    "        df_TRADINGREGIONSUM_piv = df_TRADINGREGIONSUM_piv.groupby(pd.Grouper(freq='60Min', base=1, label='right')).mean()\n",
    "        df_TRADINGREGIONSUM_piv = df_TRADINGREGIONSUM_piv.set_index(df_TRADINGREGIONSUM_piv.index - pd.Timedelta(minutes=1))\n",
    "\n",
    "        df_load_5Region=df_load_5Region.append(df_TRADINGREGIONSUM_piv)\n",
    "      "
   ]
  },
  {
   "cell_type": "code",
   "execution_count": 24,
   "metadata": {},
   "outputs": [
    {
     "data": {
      "text/plain": [
       "0    4.893743\n",
       "1    5.383104\n",
       "2    5.922748\n",
       "3    3.979761\n",
       "4    7.056214\n",
       "dtype: float64"
      ]
     },
     "execution_count": 24,
     "metadata": {},
     "output_type": "execute_result"
    },
    {
     "data": {
      "text/plain": [
       "0   -2.171551\n",
       "1   -3.883090\n",
       "2   -5.508728\n",
       "3   -4.608082\n",
       "4   -5.115365\n",
       "dtype: float64"
      ]
     },
     "execution_count": 24,
     "metadata": {},
     "output_type": "execute_result"
    }
   ],
   "source": [
    "df_z_5Region=Standardization(df_load_5Region)"
   ]
  },
  {
   "cell_type": "markdown",
   "metadata": {},
   "source": [
    "### Analyze L1 and L2 norms of standard variable $z$"
   ]
  },
  {
   "cell_type": "code",
   "execution_count": 91,
   "metadata": {},
   "outputs": [],
   "source": [
    "df_norm1_DiffR=pd.DataFrame(columns=['1','2','3','4','5','6','7','8'])\n",
    "\n",
    "df_z_norm1=df_z_5Region.apply(lambda x: np.linalg.norm(x,ord=1),axis=1)\n",
    "df_z_norm2=df_z_5Region.apply(lambda x: np.linalg.norm(x,ord=2),axis=1)\n",
    "\n",
    "for i in range(1,9):\n",
    "    mask=df_z_norm2<=i\n",
    "    z_norm1_sub=df_z_norm1[mask]\n",
    "    df_norm1_DiffR.loc['norm1',str(i)]=np.percentile(z_norm1_sub,95) \n",
    "    df_norm1_DiffR.loc['norm1/R',str(i)]=np.percentile(z_norm1_sub,95)/i\n",
    "    df_norm1_DiffR.loc['Pr',str(i)]=len(z_norm1_sub)/len(df_z_norm1)"
   ]
  },
  {
   "cell_type": "markdown",
   "metadata": {},
   "source": [
    "#### $L^1$ and $L^2$ norms of load vector of the five region"
   ]
  },
  {
   "cell_type": "code",
   "execution_count": 92,
   "metadata": {},
   "outputs": [
    {
     "data": {
      "text/html": [
       "<div>\n",
       "<style scoped>\n",
       "    .dataframe tbody tr th:only-of-type {\n",
       "        vertical-align: middle;\n",
       "    }\n",
       "\n",
       "    .dataframe tbody tr th {\n",
       "        vertical-align: top;\n",
       "    }\n",
       "\n",
       "    .dataframe thead th {\n",
       "        text-align: right;\n",
       "    }\n",
       "</style>\n",
       "<table border=\"1\" class=\"dataframe\">\n",
       "  <thead>\n",
       "    <tr style=\"text-align: right;\">\n",
       "      <th></th>\n",
       "      <th>1</th>\n",
       "      <th>2</th>\n",
       "      <th>3</th>\n",
       "      <th>4</th>\n",
       "      <th>5</th>\n",
       "      <th>6</th>\n",
       "      <th>7</th>\n",
       "      <th>8</th>\n",
       "    </tr>\n",
       "  </thead>\n",
       "  <tbody>\n",
       "    <tr>\n",
       "      <td>norm1</td>\n",
       "      <td>1.98637</td>\n",
       "      <td>3.78084</td>\n",
       "      <td>5.17723</td>\n",
       "      <td>6.11252</td>\n",
       "      <td>6.54892</td>\n",
       "      <td>6.81434</td>\n",
       "      <td>6.9563</td>\n",
       "      <td>6.99142</td>\n",
       "    </tr>\n",
       "    <tr>\n",
       "      <td>norm1/R</td>\n",
       "      <td>1.98637</td>\n",
       "      <td>1.89042</td>\n",
       "      <td>1.72574</td>\n",
       "      <td>1.52813</td>\n",
       "      <td>1.30978</td>\n",
       "      <td>1.13572</td>\n",
       "      <td>0.993757</td>\n",
       "      <td>0.873927</td>\n",
       "    </tr>\n",
       "    <tr>\n",
       "      <td>Pr</td>\n",
       "      <td>0.0520513</td>\n",
       "      <td>0.584336</td>\n",
       "      <td>0.881163</td>\n",
       "      <td>0.963089</td>\n",
       "      <td>0.984796</td>\n",
       "      <td>0.994584</td>\n",
       "      <td>0.998678</td>\n",
       "      <td>0.999872</td>\n",
       "    </tr>\n",
       "  </tbody>\n",
       "</table>\n",
       "</div>"
      ],
      "text/plain": [
       "                 1         2         3         4         5         6  \\\n",
       "norm1      1.98637   3.78084   5.17723   6.11252   6.54892   6.81434   \n",
       "norm1/R    1.98637   1.89042   1.72574   1.52813   1.30978   1.13572   \n",
       "Pr       0.0520513  0.584336  0.881163  0.963089  0.984796  0.994584   \n",
       "\n",
       "                7         8  \n",
       "norm1      6.9563   6.99142  \n",
       "norm1/R  0.993757  0.873927  \n",
       "Pr       0.998678  0.999872  "
      ]
     },
     "execution_count": 92,
     "metadata": {},
     "output_type": "execute_result"
    }
   ],
   "source": [
    "  # L1 norm at different R's\n",
    "    df_norm1_DiffR"
   ]
  },
  {
   "cell_type": "code",
   "execution_count": 170,
   "metadata": {},
   "outputs": [
    {
     "data": {
      "text/plain": [
       "[None,\n",
       " None,\n",
       " None,\n",
       " None,\n",
       " None,\n",
       " None,\n",
       " None,\n",
       " None,\n",
       " None,\n",
       " None,\n",
       " None,\n",
       " None,\n",
       " None,\n",
       " None,\n",
       " None,\n",
       " None,\n",
       " None,\n",
       " None]"
      ]
     },
     "execution_count": 170,
     "metadata": {},
     "output_type": "execute_result"
    },
    {
     "data": {
      "text/plain": [
       "Text(0.5, 0, '$L^2$-norm values $(R)$')"
      ]
     },
     "execution_count": 170,
     "metadata": {},
     "output_type": "execute_result"
    },
    {
     "data": {
      "text/plain": [
       "Text(0, 0.5, '$L^1$-norm values $(\\\\Gamma)$')"
      ]
     },
     "execution_count": 170,
     "metadata": {},
     "output_type": "execute_result"
    },
    {
     "data": {
      "text/plain": [
       "Text(0, 0.5, 'Cumulative probability')"
      ]
     },
     "execution_count": 170,
     "metadata": {},
     "output_type": "execute_result"
    },
    {
     "data": {
      "text/plain": [
       "<matplotlib.legend.Legend at 0x7fd4391c3198>"
      ]
     },
     "execution_count": 170,
     "metadata": {},
     "output_type": "execute_result"
    },
    {
     "data": {
      "image/png": "[encoded data removed]",
      "text/plain": [
       "<Figure size 432x288 with 2 Axes>"
      ]
     },
     "metadata": {
      "needs_background": "light"
     },
     "output_type": "display_data"
    }
   ],
   "source": [
    "#plot the results\n",
    "import matplotlib as mpl\n",
    "rc_fonts = {\n",
    "    \"text.usetex\": True,\n",
    "    'text.latex.preview': True, # Gives correct legend alignment.\n",
    "    'mathtext.default': 'regular',\n",
    "    'text.latex.preamble': [r\"\"\"\\usepackage{bm}\"\"\"],\n",
    "}\n",
    "mpl.rcParams.update(rc_fonts)\n",
    "\n",
    "\n",
    "font1= {'family' : 'Times New Roman', 'size':15}\n",
    "fig1,ax1=plt.subplots()\n",
    "x=np.arange(8)+1\n",
    "y=np.array(df_norm1_DiffR.iloc[0])\n",
    "line1=plt.plot(x,y,'bD--',alpha=0.4,label='$L^1$-norm values')\n",
    "\n",
    "\n",
    "plt.tick_params(labelsize=12)\n",
    "labels = ax1.get_xticklabels() + ax1.get_yticklabels()\n",
    "[label.set_fontname('Times New Roman') for label in labels]\n",
    "plt.xlabel('$L^2$-norm values $(R)$',font1)\n",
    "plt.ylabel('$L^1$-norm values $(\\Gamma)$',font1,color='b')\n",
    "for tl in ax1.get_yticklabels():\n",
    "    tl.set_color('b')\n",
    "plt.grid(linestyle=':',linewidth=0.5,axis='both')\n",
    "\n",
    "ax2 = ax1.twinx() \n",
    "y2=np.array(df_norm1_DiffR.iloc[2])\n",
    "line2=ax2.plot (x,y2,'go-',alpha=0.5,label='$\\Pr\\{ L^2 $-norm $ \\leq R\\}$')\n",
    "ax2.set_ylabel('Cumulative probability',font1,color='g')\n",
    "for tl in ax2.get_yticklabels():\n",
    "    tl.set_color('g')\n",
    "    \n",
    "lns = line1+line2\n",
    "labs = [l.get_label() for l in lns]\n",
    "ax2.legend(lns, labs, loc=4)\n",
    "\n",
    "\n",
    "plt.savefig(os.path.join(output_for_mat_dir,\"his_norm12.png\"),bbox_inches = 'tight')"
   ]
  },
  {
   "cell_type": "markdown",
   "metadata": {},
   "source": [
    "#### Select \"New castle\" and \"Queensland\", and show the detailed data"
   ]
  },
  {
   "cell_type": "code",
   "execution_count": 171,
   "metadata": {},
   "outputs": [
    {
     "data": {
      "text/plain": [
       "<matplotlib.collections.PathCollection at 0x7fd4390e8e48>"
      ]
     },
     "execution_count": 171,
     "metadata": {},
     "output_type": "execute_result"
    },
    {
     "data": {
      "text/plain": [
       "<matplotlib.collections.PathCollection at 0x7fd439281400>"
      ]
     },
     "execution_count": 171,
     "metadata": {},
     "output_type": "execute_result"
    },
    {
     "data": {
      "text/plain": [
       "<matplotlib.patches.PathPatch at 0x7fd439294518>"
      ]
     },
     "execution_count": 171,
     "metadata": {},
     "output_type": "execute_result"
    },
    {
     "data": {
      "text/plain": [
       "<matplotlib.legend.Legend at 0x7fd4392947f0>"
      ]
     },
     "execution_count": 171,
     "metadata": {},
     "output_type": "execute_result"
    },
    {
     "data": {
      "text/plain": [
       "[None, None, None, None, None, None, None, None, None, None, None, None, None]"
      ]
     },
     "execution_count": 171,
     "metadata": {},
     "output_type": "execute_result"
    },
    {
     "data": {
      "text/plain": [
       "(-3.5, 6.5)"
      ]
     },
     "execution_count": 171,
     "metadata": {},
     "output_type": "execute_result"
    },
    {
     "data": {
      "text/plain": [
       "(-4.5, 8)"
      ]
     },
     "execution_count": 171,
     "metadata": {},
     "output_type": "execute_result"
    },
    {
     "data": {
      "text/plain": [
       "Text(0.5, 0, 'Load data of New South Wales (NSW)')"
      ]
     },
     "execution_count": 171,
     "metadata": {},
     "output_type": "execute_result"
    },
    {
     "data": {
      "text/plain": [
       "Text(0, 0.5, 'Load data of Queensland (QLD)')"
      ]
     },
     "execution_count": 171,
     "metadata": {},
     "output_type": "execute_result"
    },
    {
     "data": {
      "image/png": "[encoded data removed]",
      "text/plain": [
       "<Figure size 432x360 with 1 Axes>"
      ]
     },
     "metadata": {
      "needs_background": "light"
     },
     "output_type": "display_data"
    }
   ],
   "source": [
    "NSW_max=df_z_5Region[0].max()\n",
    "NSW_min=df_z_5Region[0].min()\n",
    "QSL_max=df_z_5Region[1].max()\n",
    "QSL_min=df_z_5Region[1].min()\n",
    "\n",
    "fig,ax=plt.subplots(figsize=(6, 5))\n",
    "ax.scatter(df_z_5Region[0], df_z_5Region[1], alpha=0.1,linewidths=0.05,marker='.')\n",
    "ax.scatter(df_z_5Region[0].mean(), df_z_5Region[1].mean(),linewidths=1)\n",
    "\n",
    "cir1 = Circle(xy = (0.0, 0.0), radius=1, alpha=0.5,facecolor='none',edgecolor='red',label='$R=1$')\n",
    "cir2 = Circle(xy = (0.0, 0.0), radius=2, alpha=1,facecolor='none',edgecolor='fuchsia', linestyle='--',label='$R=2$')\n",
    "cir3 = Circle(xy = (0.0, 0.0), radius=3, alpha=0.8,facecolor='none',edgecolor='blue', linestyle=':',label='$R=3$')\n",
    "cir4 = Circle(xy = (0.0, 0.0), radius=4, alpha=0.6,facecolor='none',edgecolor='black', linestyle=':',label='$R=4$')\n",
    "cir5 = Circle(xy = (0.0, 0.0), radius=5, alpha=0.4,facecolor='none',edgecolor='black', linestyle=':',label='$R=5$')\n",
    "\n",
    "c1=ax.add_patch(cir1)\n",
    "c2=ax.add_patch(cir2)\n",
    "c3=ax.add_patch(cir3)\n",
    "c4=ax.add_patch(cir4)\n",
    "c5=ax.add_patch(cir5)\n",
    "\n",
    "patch1 = patches.PathPatch(path, facecolor='None', lw=2,label='Boundary of $\\Xi$')\n",
    "ax.add_patch(patch1)\n",
    "\n",
    "font_legend = {'family' : 'Times New Roman','size': 10}\n",
    "ax.legend(handles=[c1,c2,c3,c4,c5,patch1],frameon=True, prop=font_legend,ncol=3,loc='upper center')\n",
    "\n",
    "plt.tick_params(labelsize=15)\n",
    "labels = ax.get_xticklabels() + ax.get_yticklabels()\n",
    "[label.set_fontname('Times New Roman') for label in labels]\n",
    "ax.set_xlim(-3.5, 6.5)\n",
    "ax.set_ylim(-4.5, 8)\n",
    "\n",
    "#plt.grid(linestyle=':',linewidth=0.5)\n",
    "\n",
    "font3= {'family' : 'Times New Roman', 'size':15}\n",
    "plt.xlabel('Load data of New South Wales (NSW)',font3)\n",
    "plt.ylabel('Load data of Queensland (QLD)',font3)\n",
    "\n",
    "plt.savefig(os.path.join(output_for_mat_dir,\"NSW_QLD.png\"),bbox_inches = 'tight')\n",
    "plt.show()\n"
   ]
  },
  {
   "cell_type": "markdown",
   "metadata": {},
   "source": [
    "# References\n",
    "[1] -Xenophon, A., Hill, D. Open grid model of Australia’s National Electricity Market allowing backtesting against historic data. Sci Data 5, 180203 (2018). https://doi.org/10.1038/sdata.2018.203\n",
    "\n",
    "[2] -Xenophon, A. K. Geospatial Modelling of Australia’s National Electricity Market. GitHub https://github.com/akxen/egrimod-nem (2018).\n",
    "\n",
    "[3] -Australian Energy Markets Operator. Data Archive (2018). at http://www.nemweb.com.au/#mms-data-model \n",
    "\n",
    "[4] -Australian Energy Markets Operator. Data Archive (2018). at https://nemweb.com.au/Data_Archive/Wholesale_Electricity/MMSDM/\n",
    "\n",
    "#  Datasets List from MMSDM\n",
    "A summary of the tables used from AEMO's MMSDM database [3] is given below:\n",
    "\n",
    "| Table | Description |\n",
    "| :----- | :----- |\n",
    "|DISPATCH_UNIT_SCADA | MW dispatch at 5 minute (dispatch) intervals for DUIDs within the NEM.|\n",
    "|TRADINGREGIONSUM | Contains load in each NEM region at 30 minute (trading) intervals.|"
   ]
  }
 ],
 "metadata": {
  "kernelspec": {
   "display_name": "Python (egrimod-nem-env)",
   "language": "python",
   "name": "egrimod-nem-env"
  },
  "language_info": {
   "codemirror_mode": {
    "name": "ipython",
    "version": 3
   },
   "file_extension": ".py",
   "mimetype": "text/x-python",
   "name": "python",
   "nbconvert_exporter": "python",
   "pygments_lexer": "ipython3",
   "version": "3.6.10"
  },
  "toc": {
   "base_numbering": 1,
   "nav_menu": {},
   "number_sections": true,
   "sideBar": true,
   "skip_h1_title": false,
   "title_cell": "Table of Contents",
   "title_sidebar": "Contents",
   "toc_cell": false,
   "toc_position": {
    "height": "calc(100% - 180px)",
    "left": "10px",
    "top": "150px",
    "width": "165px"
   },
   "toc_section_display": true,
   "toc_window_display": true
  },
  "varInspector": {
   "cols": {
    "lenName": 16,
    "lenType": 16,
    "lenVar": 40
   },
   "kernels_config": {
    "python": {
     "delete_cmd_postfix": "",
     "delete_cmd_prefix": "del ",
     "library": "var_list.py",
     "varRefreshCmd": "print(var_dic_list())"
    },
    "r": {
     "delete_cmd_postfix": ") ",
     "delete_cmd_prefix": "rm(",
     "library": "var_list.r",
     "varRefreshCmd": "cat(var_dic_list()) "
    }
   },
   "types_to_exclude": [
    "module",
    "function",
    "builtin_function_or_method",
    "instance",
    "_Feature"
   ],
   "window_display": false
  }
 },
 "nbformat": 4,
 "nbformat_minor": 2
}
